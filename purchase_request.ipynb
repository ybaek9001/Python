{
 "cells": [
  {
   "cell_type": "code",
   "execution_count": 21,
   "metadata": {},
   "outputs": [],
   "source": [
    "import pandas as pd\n",
    "import datetime\n",
    "\n",
    "file_address = input(prompt='파일 경로를 입력하세요.')\n",
    "\n",
    "df = pd.read_excel(file_address)\n",
    "del df['Unnamed: 0']\n",
    "df.columns = ['No.', '거래처', '품명', '모델명', '단가', '수량', '총금액', '선금', '잔금', '구매형태', '선금 비율', '잔금 비율', '선금 날짜', '잔금 날짜(출하 예정)', '비고']\n",
    "\n",
    "for i in df.index:\n",
    "    if type(df['No.'][i]) != int:\n",
    "        df = df.drop([i])\n",
    "    else:\n",
    "        df['잔금 날짜(출하 예정)'][i] = df['잔금 날짜(출하 예정)'][i].strftime('%m')+'月'\n",
    "\n",
    "df.set_index('No.', inplace=True)        \n",
    "\n",
    "df_share = df[['거래처', '품명', '모델명', '수량','잔금 날짜(출하 예정)']]\n",
    "df_ecount = df[['모델명', '품명', '거래처', '수량', '단가', '선금', '잔금', '비고' ]]\n",
    "\n",
    "now = datetime.datetime.now()\n",
    "nowDate = now.strftime('%Y.%m.%d')\n",
    "\n",
    "fn_share = '구매신청서 -' + str(nowDate) + '.xlsx'\n",
    "df_share.to_excel(fn_share)\n",
    "\n",
    "fn_ecount = '구매신청서(이카운트) -' + str(nowDate) + '.xlsx'\n",
    "df_ecount.to_excel(fn_ecount)\n"
   ]
  },
  {
   "cell_type": "code",
   "execution_count": 22,
   "metadata": {},
   "outputs": [
    {
     "output_type": "execute_result",
     "data": {
      "text/plain": "            거래처                  품명     모델명   수량 잔금 날짜(출하 예정)\nNo.                                                          \n1    PENTASMART      에어 프로텍터 무릎마사지기  ZP1955   10          05月\n2    PENTASMART       에어 마일드 무릎마사지기  ZP1956   20          05月\n3    PENTASMART        에어 드림 무픞마사지기  ZP1957   30          05月\n4         LUYAO     힐링웨어 목어깨안마기(차콜)  ZP4080   50          05月\n5         YITAI  액티브 롤링에어 레그&풋 마사지기  ZP1765   80          05月\n6         YITAI    액티브 센스 레그&풋 마사지기  ZP1766  100          05月\n7         YITAI   액티브 밸런스 레그&풋 마사지기  ZP1767  150          05月\n8         YITAI  액티브 토탈케어 레그&풋 마사지기  ZP1768  100          05月",
      "text/html": "<div>\n<style scoped>\n    .dataframe tbody tr th:only-of-type {\n        vertical-align: middle;\n    }\n\n    .dataframe tbody tr th {\n        vertical-align: top;\n    }\n\n    .dataframe thead th {\n        text-align: right;\n    }\n</style>\n<table border=\"1\" class=\"dataframe\">\n  <thead>\n    <tr style=\"text-align: right;\">\n      <th></th>\n      <th>거래처</th>\n      <th>품명</th>\n      <th>모델명</th>\n      <th>수량</th>\n      <th>잔금 날짜(출하 예정)</th>\n    </tr>\n    <tr>\n      <th>No.</th>\n      <th></th>\n      <th></th>\n      <th></th>\n      <th></th>\n      <th></th>\n    </tr>\n  </thead>\n  <tbody>\n    <tr>\n      <th>1</th>\n      <td>PENTASMART</td>\n      <td>에어 프로텍터 무릎마사지기</td>\n      <td>ZP1955</td>\n      <td>10</td>\n      <td>05月</td>\n    </tr>\n    <tr>\n      <th>2</th>\n      <td>PENTASMART</td>\n      <td>에어 마일드 무릎마사지기</td>\n      <td>ZP1956</td>\n      <td>20</td>\n      <td>05月</td>\n    </tr>\n    <tr>\n      <th>3</th>\n      <td>PENTASMART</td>\n      <td>에어 드림 무픞마사지기</td>\n      <td>ZP1957</td>\n      <td>30</td>\n      <td>05月</td>\n    </tr>\n    <tr>\n      <th>4</th>\n      <td>LUYAO</td>\n      <td>힐링웨어 목어깨안마기(차콜)</td>\n      <td>ZP4080</td>\n      <td>50</td>\n      <td>05月</td>\n    </tr>\n    <tr>\n      <th>5</th>\n      <td>YITAI</td>\n      <td>액티브 롤링에어 레그&amp;풋 마사지기</td>\n      <td>ZP1765</td>\n      <td>80</td>\n      <td>05月</td>\n    </tr>\n    <tr>\n      <th>6</th>\n      <td>YITAI</td>\n      <td>액티브 센스 레그&amp;풋 마사지기</td>\n      <td>ZP1766</td>\n      <td>100</td>\n      <td>05月</td>\n    </tr>\n    <tr>\n      <th>7</th>\n      <td>YITAI</td>\n      <td>액티브 밸런스 레그&amp;풋 마사지기</td>\n      <td>ZP1767</td>\n      <td>150</td>\n      <td>05月</td>\n    </tr>\n    <tr>\n      <th>8</th>\n      <td>YITAI</td>\n      <td>액티브 토탈케어 레그&amp;풋 마사지기</td>\n      <td>ZP1768</td>\n      <td>100</td>\n      <td>05月</td>\n    </tr>\n  </tbody>\n</table>\n</div>"
     },
     "metadata": {},
     "execution_count": 22
    }
   ],
   "source": [
    "df_share"
   ]
  },
  {
   "cell_type": "code",
   "execution_count": 23,
   "metadata": {},
   "outputs": [
    {
     "output_type": "execute_result",
     "data": {
      "text/plain": "        모델명                  품명         거래처   수량   단가   선금     잔금   비고\nNo.                                                                   \n1    ZP1955      에어 프로텍터 무릎마사지기  PENTASMART   10   35   70    280  NaN\n2    ZP1956       에어 마일드 무릎마사지기  PENTASMART   20   35  140    560  NaN\n3    ZP1957        에어 드림 무픞마사지기  PENTASMART   30   35  210    840  NaN\n4    ZP4080     힐링웨어 목어깨안마기(차콜)       LUYAO   50   22  165    935  NaN\n5    ZP1765  액티브 롤링에어 레그&풋 마사지기       YITAI   80  131    0  10480  NaN\n6    ZP1766    액티브 센스 레그&풋 마사지기       YITAI  100  131    0  13100  NaN\n7    ZP1767   액티브 밸런스 레그&풋 마사지기       YITAI  150  131    0  19650  NaN\n8    ZP1768  액티브 토탈케어 레그&풋 마사지기       YITAI  100  131    0  13100  NaN",
      "text/html": "<div>\n<style scoped>\n    .dataframe tbody tr th:only-of-type {\n        vertical-align: middle;\n    }\n\n    .dataframe tbody tr th {\n        vertical-align: top;\n    }\n\n    .dataframe thead th {\n        text-align: right;\n    }\n</style>\n<table border=\"1\" class=\"dataframe\">\n  <thead>\n    <tr style=\"text-align: right;\">\n      <th></th>\n      <th>모델명</th>\n      <th>품명</th>\n      <th>거래처</th>\n      <th>수량</th>\n      <th>단가</th>\n      <th>선금</th>\n      <th>잔금</th>\n      <th>비고</th>\n    </tr>\n    <tr>\n      <th>No.</th>\n      <th></th>\n      <th></th>\n      <th></th>\n      <th></th>\n      <th></th>\n      <th></th>\n      <th></th>\n      <th></th>\n    </tr>\n  </thead>\n  <tbody>\n    <tr>\n      <th>1</th>\n      <td>ZP1955</td>\n      <td>에어 프로텍터 무릎마사지기</td>\n      <td>PENTASMART</td>\n      <td>10</td>\n      <td>35</td>\n      <td>70</td>\n      <td>280</td>\n      <td>NaN</td>\n    </tr>\n    <tr>\n      <th>2</th>\n      <td>ZP1956</td>\n      <td>에어 마일드 무릎마사지기</td>\n      <td>PENTASMART</td>\n      <td>20</td>\n      <td>35</td>\n      <td>140</td>\n      <td>560</td>\n      <td>NaN</td>\n    </tr>\n    <tr>\n      <th>3</th>\n      <td>ZP1957</td>\n      <td>에어 드림 무픞마사지기</td>\n      <td>PENTASMART</td>\n      <td>30</td>\n      <td>35</td>\n      <td>210</td>\n      <td>840</td>\n      <td>NaN</td>\n    </tr>\n    <tr>\n      <th>4</th>\n      <td>ZP4080</td>\n      <td>힐링웨어 목어깨안마기(차콜)</td>\n      <td>LUYAO</td>\n      <td>50</td>\n      <td>22</td>\n      <td>165</td>\n      <td>935</td>\n      <td>NaN</td>\n    </tr>\n    <tr>\n      <th>5</th>\n      <td>ZP1765</td>\n      <td>액티브 롤링에어 레그&amp;풋 마사지기</td>\n      <td>YITAI</td>\n      <td>80</td>\n      <td>131</td>\n      <td>0</td>\n      <td>10480</td>\n      <td>NaN</td>\n    </tr>\n    <tr>\n      <th>6</th>\n      <td>ZP1766</td>\n      <td>액티브 센스 레그&amp;풋 마사지기</td>\n      <td>YITAI</td>\n      <td>100</td>\n      <td>131</td>\n      <td>0</td>\n      <td>13100</td>\n      <td>NaN</td>\n    </tr>\n    <tr>\n      <th>7</th>\n      <td>ZP1767</td>\n      <td>액티브 밸런스 레그&amp;풋 마사지기</td>\n      <td>YITAI</td>\n      <td>150</td>\n      <td>131</td>\n      <td>0</td>\n      <td>19650</td>\n      <td>NaN</td>\n    </tr>\n    <tr>\n      <th>8</th>\n      <td>ZP1768</td>\n      <td>액티브 토탈케어 레그&amp;풋 마사지기</td>\n      <td>YITAI</td>\n      <td>100</td>\n      <td>131</td>\n      <td>0</td>\n      <td>13100</td>\n      <td>NaN</td>\n    </tr>\n  </tbody>\n</table>\n</div>"
     },
     "metadata": {},
     "execution_count": 23
    }
   ],
   "source": [
    "df_ecount"
   ]
  },
  {
   "cell_type": "code",
   "execution_count": null,
   "metadata": {},
   "outputs": [],
   "source": []
  }
 ],
 "metadata": {
  "kernelspec": {
   "display_name": "Python 3",
   "language": "python",
   "name": "python3"
  },
  "language_info": {
   "codemirror_mode": {
    "name": "ipython",
    "version": 3
   },
   "file_extension": ".py",
   "mimetype": "text/x-python",
   "name": "python",
   "nbconvert_exporter": "python",
   "pygments_lexer": "ipython3",
   "version": "3.7.3-final"
  }
 },
 "nbformat": 4,
 "nbformat_minor": 2
}