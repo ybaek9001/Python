{
 "cells": [
  {
   "cell_type": "code",
   "execution_count": 102,
   "metadata": {
    "tags": [
     "outputPrepend"
    ]
   },
   "outputs": [
    {
     "output_type": "stream",
     "name": "stdout",
     "text": "이카운트에서 다운 받은 엑셀(csv) 경로를 입력하세요 \n\n원하는 날짜 조회 방식을 선택하세요. \n 1.송금일자 \n 2.구매요청일 \n\n1.송금일자 조회 방식을 선택했습니다.\n\n입력한 송금일짜: 20.04.06\n\n입력한 이미지 폴더 경로: C:\\Users\\YB\\Desktop\\Phython\\ZESPA\\Image_Crawling\\실행파일\\ZP882.jpg\nZP882 이미지 찾기 성공\n입력한 이미지 폴더 경로: C:\\Users\\YB\\Desktop\\Phython\\ZESPA\\Image_Crawling\\실행파일\\ZP721.jpg\nZP721 이미지 찾기 성공\n입력한 이미지 폴더 경로: C:\\Users\\YB\\Desktop\\Phython\\ZESPA\\Image_Crawling\\실행파일\\ZP949.jpg\nZP949 이미지 찾기 성공\n입력한 이미지 폴더 경로: C:\\Users\\YB\\Desktop\\Phython\\ZESPA\\Image_Crawling\\실행파일\\ZP958.jpg\nZP958 이미지 찾기 성공\n입력한 이미지 폴더 경로: C:\\Users\\YB\\Desktop\\Phython\\ZESPA\\Image_Crawling\\실행파일\\ZP959.jpg\nZP959 이미지 찾기 성공\n입력한 이미지 폴더 경로: C:\\Users\\YB\\Desktop\\Phython\\ZESPA\\Image_Crawling\\실행파일\\ZP1610.jpg\nZP1610 이미지 찾기 성공\n입력한 이미지 폴더 경로: C:\\Users\\YB\\Desktop\\Phython\\ZESPA\\Image_Crawling\\실행파일\\ZP1615.jpg\nZP1615 이미지 찾기 성공\n입력한 이미지 폴더 경로: C:\\Users\\YB\\Desktop\\Phython\\ZESPA\\Image_Crawling\\실행파일\\ZP1612.jpg\nZP1612 이미지 찾기 성공\n입력한 이미지 폴더 경로: C:\\Users\\YB\\Desktop\\Phython\\ZESPA\\Image_Crawling\\실행파일\\ZP2400.jpg\nZP2400 이미지 찾기 성공\n입력한 이미지 폴더 경로: C:\\Users\\YB\\Desktop\\Phython\\ZESPA\\Image_Crawling\\실행파일\\ZP2401.jpg\nZP2401 이미지 찾기 성공\n입력한 이미지 폴더 경로: C:\\Users\\YB\\Desktop\\Phython\\ZESPA\\Image_Crawling\\실행파일\\ZP2400.jpg\nZP2400 이미지 찾기 성공\n입력한 이미지 폴더 경로: C:\\Users\\YB\\Desktop\\Phython\\ZESPA\\Image_Crawling\\실행파일\\기타.jpg\n기타 해당 이미지를 찾지 못했습니다.\n입력한 이미지 폴더 경로: C:\\Users\\YB\\Desktop\\Phython\\ZESPA\\Image_Crawling\\실행파일\\ZP1611.jpg\nZP1611 이미지 찾기 성공\n파일 저장 성공!\n"
    }
   ],
   "source": [
    "import pandas as pd\n",
    "\n",
    "\n",
    "print(\"이카운트에서 다운 받은 엑셀(csv로 변환한 파일) 경로를 입력하세요 \\n\")\n",
    "file_loc = input(\"파일 경로(파일이름.csv 포함): \")\n",
    "df = pd.read_csv(file_loc, header=1) # header=1은 두번째 행을 열 이름으로 설정, index_col=0 0번째 열을 인덱스로\n",
    "\n",
    "choice = ''\n",
    "while choice == '':\n",
    "    print('원하는 날짜 조회 방식을 선택하세요. \\n 1.송금일자 \\n 2.구매요청일 \\n')\n",
    "    choice = input('번호: ')\n",
    "    if choice == '1':\n",
    "        print(\"1.송금일자 조회 방식을 선택했습니다.\\n\")\n",
    "        date = input(\"조회하고 싶은 송금일짜를 입력하세요. (yy.mm.dd) \\n\")\n",
    "        print(\"입력한 송금일짜: %s\\n\"%date)\n",
    "        result = df[df['송금일자'].str.contains(date) == True]\n",
    "    elif choice == '2':\n",
    "        print(\"2.구매요청일 조회 방식을 선택했습니다.\")\n",
    "        date = input(\"조회하고 싶은 구매요청일을 입력하세요. (yy/mm/dd) \\n\")\n",
    "        print(\"입력한 구매요청일: %s\\n\"%date)\n",
    "        result = df[df['구매요청일'].str.contains(date) == True]\n",
    "    else:\n",
    "        print(\"잘못 입력하셨습니다.\\n\")\n",
    "        choice = ''\n",
    "\n",
    "result.reset_index(drop=True, inplace=True)\n",
    "\n",
    "\n",
    "seller = []\n",
    "item_name = []\n",
    "for i in result.index:\n",
    "    if type(result['거래처명'][i]) == str:\n",
    "        seller.append(result['거래처명'][i].split('_')[1])\n",
    "        temp = result['품목명'][i].split(' ')[1:]\n",
    "        item_name.append(' '.join(temp))\n",
    "\n",
    "\n",
    "result['거래처명'] = seller\n",
    "result['품목명'] = item_name\n",
    "\n",
    "result = result.reindex(columns=['송금일자', '구매요청일', '선금2', '잔금2', '품목코드', '품목명', '수량', '외화명', '단가', '외화금액',\n",
    "                                '거래처명', '선금$', '잔금$', '유형', '송금유형및 날짜', '납기일자', '적요#', '이미지', '입수단위', 'L/C No.', '차수', 'CONTAINER',                                        '입고예정일', '포딩', '입금현황', '입항일', '발주일'])\n",
    "\n",
    "# 필요한 열만 골라서 순서 정하기\n",
    "f = result[['송금일자', '구매요청일', '거래처명','품목명','품목코드','이미지', '단가', '입수단위', '수량', '발주일', 'L/C No.',  '차수', 'CONTAINER', '입고예정일','포딩' , '입금현황', '입항일', '적요#', '유형', '선금2', '잔금2']]\n",
    "\n",
    "# 열 이름 변경\n",
    "f.columns = ['송금일자', '구매요청일', '업체','제품명','모델명','이미지', '단가', '입수단위', '수량', '발주일', 'L/C No.',  '차수', 'CONTAINER', '입고예정일','포딩' , '입금현황', '입항일', '비고', '유형', '선금2', '잔금2']\n",
    "\n",
    "\n",
    "##############################################\n",
    "\n",
    "writer = pd.ExcelWriter('result.xlsx', engine='xlsxwriter')\n",
    "f.to_excel(writer, sheet_name='Sheet1')\n",
    "workbook  = writer.book\n",
    "worksheet = writer.sheets['Sheet1']\n",
    "\n",
    "# from openpyxl import Workbook\n",
    "# from openpyxl.utils.dataframe import dataframe_to_rows\n",
    "# from openpyxl.drawing.image import Image\n",
    "\n",
    "# wb = Workbook()\n",
    "# ws = wb.active\n",
    "\n",
    "# for r in dataframe_to_rows(f, index=True, header=True):\n",
    "#     ws.append(r)\n",
    "\n",
    "\n",
    "\n",
    "model = f['모델명']\n",
    "i = 1\n",
    "\n",
    "folder_loc = input('제품 이미지 파일들이 들어있는 폴더의 경로를 입력하세요: ')\n",
    "print(\"입력한 이미지 폴더 경로: %s\"%folder_loc)\n",
    "\n",
    "for m in model:\n",
    "    if type(m) != str:\n",
    "        pass\n",
    "    else:        \n",
    "        i = i + 1\n",
    "        loc = folder_loc + '\\\\%s.jpg'%m\n",
    "        r = worksheet.insert_image('G%s'%str(i), loc, {'x_scale': 0.09, 'y_scale': 0.08})\n",
    "        if r == None:\n",
    "            print('%s 이미지 찾기 성공' %m)\n",
    "        else:\n",
    "            print('%s 해당 이미지를 찾지 못했습니다.' %m)\n",
    "\n",
    "try:\n",
    "    writer.save()\n",
    "    print('파일 저장 성공!')\n",
    "except PermissionError  :\n",
    "    print(\"파일이 열려있어서 접근 권한이 없습니다\")\n",
    "except:\n",
    "    print(\"다른 에러\")"
   ]
  },
  {
   "cell_type": "code",
   "execution_count": 90,
   "metadata": {},
   "outputs": [
    {
     "output_type": "stream",
     "name": "stdout",
     "text": "dfadsf\n"
    }
   ],
   "source": [
    "a = worksheet.insert_image('G5', loc, {'x_scale': 0.08, 'y_scale': 0.08})\n",
    "if a == None:\n",
    "    print('dfadsf')"
   ]
  }
 ],
 "metadata": {
  "language_info": {
   "codemirror_mode": {
    "name": "ipython",
    "version": 3
   },
   "file_extension": ".py",
   "mimetype": "text/x-python",
   "name": "python",
   "nbconvert_exporter": "python",
   "pygments_lexer": "ipython3",
   "version": "3.7.3-final"
  },
  "orig_nbformat": 2,
  "kernelspec": {
   "name": "python3",
   "display_name": "Python 3"
  }
 },
 "nbformat": 4,
 "nbformat_minor": 2
}